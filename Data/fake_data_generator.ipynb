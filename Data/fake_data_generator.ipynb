{
 "cells": [
  {
   "cell_type": "code",
   "execution_count": 2,
   "metadata": {},
   "outputs": [],
   "source": [
    "import numpy as np\n",
    "import pandas as pd\n",
    "from faker import Faker\n",
    "import random\n",
    "import matplotlib.pyplot as plt\n",
    "import secrets\n",
    "import string\n",
    "import psycopg2\n",
    "from datetime import timedelta, datetime"
   ]
  },
  {
   "cell_type": "markdown",
   "metadata": {},
   "source": [
    "# Fake client data"
   ]
  },
  {
   "cell_type": "code",
   "execution_count": 3,
   "metadata": {},
   "outputs": [],
   "source": [
    "def getRandomPasswordString():\n",
    "    alphabet = string.ascii_letters + string.digits + string.punctuation.replace(',', '')  # Exclure la virgule\n",
    "\n",
    "    password = secrets.choice(string.ascii_uppercase) + \\\n",
    "               secrets.choice(string.ascii_lowercase) + \\\n",
    "               secrets.choice(string.digits) + \\\n",
    "               secrets.choice(string.punctuation.replace(',', '')) + \\\n",
    "               ''.join(secrets.choice(alphabet) for i in range(12))\n",
    "\n",
    "    return password\n"
   ]
  },
  {
   "cell_type": "code",
   "execution_count": 4,
   "metadata": {},
   "outputs": [
    {
     "data": {
      "text/plain": [
       "'Jx0\\\\6t32Gk.413@='"
      ]
     },
     "execution_count": 4,
     "metadata": {},
     "output_type": "execute_result"
    }
   ],
   "source": [
    "getRandomPasswordString()"
   ]
  },
  {
   "cell_type": "code",
   "execution_count": 73,
   "metadata": {},
   "outputs": [],
   "source": [
    "def generate_data():\n",
    "    fake = Faker()\n",
    "    liste_des_domaines = ['com','net','org','gov','fr']\n",
    "\n",
    "    list_rows = []\n",
    "    nb_row = random.randint(10000, 12000)\n",
    "\n",
    "    generated_ids = set()   # Utilisation d'un ensemble pour stocker les IDs générés\n",
    "\n",
    "    for i in range(nb_row):\n",
    "        first_name = fake.first_name()\n",
    "        last_name = fake.last_name()\n",
    "        company = fake.company().split()[0].strip(',')\n",
    "        dns_org = fake.random_choices(elements=liste_des_domaines, length=1)[0]\n",
    "        email = f\"{first_name}.{last_name}@{company}.{dns_org}\".lower()\n",
    "        unique_id = random.randint(100000, 999999)\n",
    "        pwd = getRandomPasswordString()\n",
    "        condition = True\n",
    "        while (condition):\n",
    "            age = int(np.random.gamma(9, 5)) - 20\n",
    "            if ((age > 15) and (age < 66)):\n",
    "                condition = False\n",
    "\n",
    "        if unique_id not in generated_ids:\n",
    "            generated_ids.add(unique_id)  # Ajoute l'ID à l'ensemble des IDs générés\n",
    "            list_rows.append(\n",
    "                (unique_id, first_name, last_name, pwd, age, fake.job(), fake.address(), fake.phone_number(), email)\n",
    "            )\n",
    "    return list_rows"
   ]
  },
  {
   "cell_type": "code",
   "execution_count": 74,
   "metadata": {},
   "outputs": [],
   "source": [
    "data = generate_data()"
   ]
  },
  {
   "cell_type": "code",
   "execution_count": 75,
   "metadata": {},
   "outputs": [
    {
     "data": {
      "text/html": [
       "<div>\n",
       "<style scoped>\n",
       "    .dataframe tbody tr th:only-of-type {\n",
       "        vertical-align: middle;\n",
       "    }\n",
       "\n",
       "    .dataframe tbody tr th {\n",
       "        vertical-align: top;\n",
       "    }\n",
       "\n",
       "    .dataframe thead th {\n",
       "        text-align: right;\n",
       "    }\n",
       "</style>\n",
       "<table border=\"1\" class=\"dataframe\">\n",
       "  <thead>\n",
       "    <tr style=\"text-align: right;\">\n",
       "      <th></th>\n",
       "      <th>id</th>\n",
       "      <th>prenom</th>\n",
       "      <th>nom</th>\n",
       "      <th>pwd</th>\n",
       "      <th>age</th>\n",
       "      <th>job</th>\n",
       "      <th>adress</th>\n",
       "      <th>phoneNumber</th>\n",
       "      <th>email</th>\n",
       "    </tr>\n",
       "  </thead>\n",
       "  <tbody>\n",
       "    <tr>\n",
       "      <th>0</th>\n",
       "      <td>433232</td>\n",
       "      <td>Shawn</td>\n",
       "      <td>Williams</td>\n",
       "      <td>Tl9&amp;Z-Gkyj8U9n@$</td>\n",
       "      <td>24</td>\n",
       "      <td>Teacher, English as a foreign language</td>\n",
       "      <td>PSC 0696, Box 2723\\nAPO AA 26226</td>\n",
       "      <td>+1-531-674-4789</td>\n",
       "      <td>shawn.williams@jacobs.fr</td>\n",
       "    </tr>\n",
       "    <tr>\n",
       "      <th>1</th>\n",
       "      <td>974687</td>\n",
       "      <td>Andrew</td>\n",
       "      <td>Cole</td>\n",
       "      <td>Xz1_WD43tryO/}W!</td>\n",
       "      <td>21</td>\n",
       "      <td>Data processing manager</td>\n",
       "      <td>PSC 5539, Box 5101\\nAPO AP 23763</td>\n",
       "      <td>+1-411-583-8691x09137</td>\n",
       "      <td>andrew.cole@serrano.fr</td>\n",
       "    </tr>\n",
       "    <tr>\n",
       "      <th>2</th>\n",
       "      <td>887599</td>\n",
       "      <td>Brian</td>\n",
       "      <td>Brooks</td>\n",
       "      <td>Ie1#VG#0mW;7!JS:</td>\n",
       "      <td>18</td>\n",
       "      <td>Advertising copywriter</td>\n",
       "      <td>427 Amy Radial\\nNorth Jennifershire, VA 19585</td>\n",
       "      <td>(605)523-1350x471</td>\n",
       "      <td>brian.brooks@franklin.org</td>\n",
       "    </tr>\n",
       "    <tr>\n",
       "      <th>3</th>\n",
       "      <td>355750</td>\n",
       "      <td>Travis</td>\n",
       "      <td>Cuevas</td>\n",
       "      <td>Qk3(eE\\K.P|s5YLf</td>\n",
       "      <td>48</td>\n",
       "      <td>Private music teacher</td>\n",
       "      <td>2399 Kelsey Mission\\nRiveraton, MI 92997</td>\n",
       "      <td>727.598.1085</td>\n",
       "      <td>travis.cuevas@sullivan.net</td>\n",
       "    </tr>\n",
       "    <tr>\n",
       "      <th>4</th>\n",
       "      <td>586574</td>\n",
       "      <td>Lisa</td>\n",
       "      <td>Allen</td>\n",
       "      <td>Dx1*wk[.:t}\\91[D</td>\n",
       "      <td>18</td>\n",
       "      <td>Science writer</td>\n",
       "      <td>21453 Caleb Vista Suite 238\\nWest Johnhaven, F...</td>\n",
       "      <td>+1-209-311-4416</td>\n",
       "      <td>lisa.allen@chen.gov</td>\n",
       "    </tr>\n",
       "  </tbody>\n",
       "</table>\n",
       "</div>"
      ],
      "text/plain": [
       "       id  prenom       nom               pwd  age  \\\n",
       "0  433232   Shawn  Williams  Tl9&Z-Gkyj8U9n@$   24   \n",
       "1  974687  Andrew      Cole  Xz1_WD43tryO/}W!   21   \n",
       "2  887599   Brian    Brooks  Ie1#VG#0mW;7!JS:   18   \n",
       "3  355750  Travis    Cuevas  Qk3(eE\\K.P|s5YLf   48   \n",
       "4  586574    Lisa     Allen  Dx1*wk[.:t}\\91[D   18   \n",
       "\n",
       "                                      job  \\\n",
       "0  Teacher, English as a foreign language   \n",
       "1                 Data processing manager   \n",
       "2                  Advertising copywriter   \n",
       "3                   Private music teacher   \n",
       "4                          Science writer   \n",
       "\n",
       "                                              adress            phoneNumber  \\\n",
       "0                   PSC 0696, Box 2723\\nAPO AA 26226        +1-531-674-4789   \n",
       "1                   PSC 5539, Box 5101\\nAPO AP 23763  +1-411-583-8691x09137   \n",
       "2      427 Amy Radial\\nNorth Jennifershire, VA 19585      (605)523-1350x471   \n",
       "3           2399 Kelsey Mission\\nRiveraton, MI 92997           727.598.1085   \n",
       "4  21453 Caleb Vista Suite 238\\nWest Johnhaven, F...        +1-209-311-4416   \n",
       "\n",
       "                        email  \n",
       "0    shawn.williams@jacobs.fr  \n",
       "1      andrew.cole@serrano.fr  \n",
       "2   brian.brooks@franklin.org  \n",
       "3  travis.cuevas@sullivan.net  \n",
       "4         lisa.allen@chen.gov  "
      ]
     },
     "execution_count": 75,
     "metadata": {},
     "output_type": "execute_result"
    }
   ],
   "source": [
    "client = pd.DataFrame(data, columns=['id', 'prenom', 'nom', 'pwd', 'age', 'job', 'adress', 'phoneNumber', 'email'])\n",
    "client.head()"
   ]
  },
  {
   "cell_type": "code",
   "execution_count": 8,
   "metadata": {},
   "outputs": [
    {
     "name": "stdout",
     "output_type": "stream",
     "text": [
      "<class 'pandas.core.frame.DataFrame'>\n",
      "RangeIndex: 11890 entries, 0 to 11889\n",
      "Data columns (total 9 columns):\n",
      " #   Column       Non-Null Count  Dtype \n",
      "---  ------       --------------  ----- \n",
      " 0   id           11890 non-null  int64 \n",
      " 1   prenom       11890 non-null  object\n",
      " 2   nom          11890 non-null  object\n",
      " 3   pwd          11890 non-null  object\n",
      " 4   age          11890 non-null  int64 \n",
      " 5   job          11890 non-null  object\n",
      " 6   adress       11890 non-null  object\n",
      " 7   phoneNumber  11890 non-null  object\n",
      " 8   email        11890 non-null  object\n",
      "dtypes: int64(2), object(7)\n",
      "memory usage: 836.1+ KB\n"
     ]
    }
   ],
   "source": [
    "client.info()"
   ]
  },
  {
   "cell_type": "code",
   "execution_count": 77,
   "metadata": {},
   "outputs": [],
   "source": [
    "client.to_csv('client.csv', index=False)"
   ]
  },
  {
   "cell_type": "markdown",
   "metadata": {},
   "source": [
    "# Fake game stats data"
   ]
  },
  {
   "cell_type": "code",
   "execution_count": 16,
   "metadata": {},
   "outputs": [
    {
     "name": "stderr",
     "output_type": "stream",
     "text": [
      "C:\\Users\\PC de MEDUSA\\AppData\\Local\\Temp\\ipykernel_38836\\65256003.py:39: FutureWarning: The behavior of DataFrame concatenation with empty or all-NA entries is deprecated. In a future version, this will no longer exclude empty or all-NA columns when determining the result dtypes. To retain the old behavior, exclude the relevant entries before the concat operation.\n",
      "  jeux_stats = pd.concat([jeux_stats, article_data])\n"
     ]
    }
   ],
   "source": [
    "# Générer les IDs de 2 à 50\n",
    "all_ids = np.arange(2, 52)\n",
    "excluded_ids = [8, 11, 12, 13, 14, 15, 16, 27, 28, 29, 34, 45]\n",
    "id_values = [e for e in all_ids if e not in excluded_ids]\n",
    "\n",
    "# Générer toutes les dates de 2023\n",
    "start_date = pd.to_datetime('2022-01-01')\n",
    "end_date = pd.to_datetime('2023-12-31')\n",
    "dates = pd.date_range(start_date, end_date, freq='D')\n",
    "\n",
    "np.random.seed(10)\n",
    "\n",
    "# Créer une DataFrame vide pour stocker les données\n",
    "jeux_stats = pd.DataFrame(columns=['id_article', 'date', 'qte_ajoutee', 'qte_achetee'])\n",
    "\n",
    "# Générer des quantités aléatoires en fonction de chaque article et date\n",
    "for article_id in id_values:\n",
    "    # Générer des paramètres spécifiques pour chaque article (moyenne et écart-type)\n",
    "    moyenne_ajoutee = np.random.uniform(50, 200)  # Moyenne pour qte_ajoutee\n",
    "    ecart_type_ajoutee = np.random.uniform(20, 100)  # Écart-type pour qte_ajoutee\n",
    "    \n",
    "    moyenne_achetee = moyenne_ajoutee * np.random.uniform(0.5, 0.8)  # Moyenne pour qte_achetee\n",
    "    ecart_type_achetee = ecart_type_ajoutee * np.random.uniform(0.5, 0.8)  # Écart-type pour qte_achetee\n",
    "    \n",
    "    # Générer des quantités aléatoires pour chaque date en utilisant une distribution normale\n",
    "    qte_ajoutee = np.random.normal(moyenne_ajoutee, ecart_type_ajoutee, len(dates)).astype(int)\n",
    "    qte_ajoutee = np.abs(qte_ajoutee)  # Rendre les valeurs négatives positives\n",
    "    qte_achetee = np.random.normal(moyenne_achetee, ecart_type_achetee, len(dates)).astype(int)\n",
    "    qte_achetee = np.abs(qte_achetee)  # Rendre les valeurs négatives positives\n",
    "    qte_achetee = np.where(qte_achetee == 0, 1, qte_achetee) # Assurer que qte_achetee n'est pas nulle\n",
    "    \n",
    "    # Créer une DataFrame pour cet article et concaténer avec la DataFrame principale\n",
    "    article_data = pd.DataFrame({\n",
    "        'id_article': article_id,\n",
    "        'date': dates,\n",
    "        'qte_ajoutee': qte_ajoutee,\n",
    "        'qte_achetee': qte_achetee\n",
    "    })\n",
    "    jeux_stats = pd.concat([jeux_stats, article_data])\n",
    "\n",
    "# Réinitialiser l'index\n",
    "jeux_stats.reset_index(drop=True, inplace=True)\n",
    "jeux_stats.loc[(jeux_stats['date'].dt.year == 2023), 'qte_ajoutee'] += 180\n",
    "jeux_stats.loc[(jeux_stats['date'].dt.year == 2023), 'qte_achetee'] += 50\n",
    "\n",
    "# Convertir la colonne 'date' en format date YYYY-MM-DD\n",
    "jeux_stats['date'] = jeux_stats['date'].dt.strftime('%Y-%m-%d')"
   ]
  },
  {
   "cell_type": "code",
   "execution_count": 17,
   "metadata": {},
   "outputs": [
    {
     "name": "stdout",
     "output_type": "stream",
     "text": [
      "<class 'pandas.core.frame.DataFrame'>\n",
      "RangeIndex: 27740 entries, 0 to 27739\n",
      "Data columns (total 4 columns):\n",
      " #   Column       Non-Null Count  Dtype \n",
      "---  ------       --------------  ----- \n",
      " 0   id_article   27740 non-null  object\n",
      " 1   date         27740 non-null  object\n",
      " 2   qte_ajoutee  27740 non-null  object\n",
      " 3   qte_achetee  27740 non-null  object\n",
      "dtypes: object(4)\n",
      "memory usage: 867.0+ KB\n"
     ]
    }
   ],
   "source": [
    "jeux_stats.info()"
   ]
  },
  {
   "cell_type": "code",
   "execution_count": 18,
   "metadata": {},
   "outputs": [],
   "source": [
    "jeux_stats.to_csv('jeux_stats.csv', index=False)"
   ]
  }
 ],
 "metadata": {
  "kernelspec": {
   "display_name": "python39",
   "language": "python",
   "name": "python3"
  },
  "language_info": {
   "codemirror_mode": {
    "name": "ipython",
    "version": 3
   },
   "file_extension": ".py",
   "mimetype": "text/x-python",
   "name": "python",
   "nbconvert_exporter": "python",
   "pygments_lexer": "ipython3",
   "version": "3.11.6"
  }
 },
 "nbformat": 4,
 "nbformat_minor": 2
}

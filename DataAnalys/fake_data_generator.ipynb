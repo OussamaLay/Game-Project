{
 "cells": [
  {
   "cell_type": "code",
   "execution_count": 2,
   "metadata": {},
   "outputs": [],
   "source": [
    "import numpy as np\n",
    "import pandas as pd\n",
    "from faker import Faker\n",
    "import random\n",
    "import matplotlib.pyplot as plt\n",
    "import secrets\n",
    "import string\n",
    "import psycopg2\n",
    "from datetime import timedelta, datetime"
   ]
  },
  {
   "cell_type": "markdown",
   "metadata": {},
   "source": [
    "# Fake client data"
   ]
  },
  {
   "cell_type": "code",
   "execution_count": 3,
   "metadata": {},
   "outputs": [],
   "source": [
    "def getRandomPasswordString():\n",
    "    alphabet = string.ascii_letters + string.digits + string.punctuation.replace(',', '')  # Exclure la virgule\n",
    "\n",
    "    password = secrets.choice(string.ascii_uppercase) + \\\n",
    "               secrets.choice(string.ascii_lowercase) + \\\n",
    "               secrets.choice(string.digits) + \\\n",
    "               secrets.choice(string.punctuation.replace(',', '')) + \\\n",
    "               ''.join(secrets.choice(alphabet) for i in range(12))\n",
    "\n",
    "    return password\n"
   ]
  },
  {
   "cell_type": "code",
   "execution_count": 4,
   "metadata": {},
   "outputs": [
    {
     "data": {
      "text/plain": [
       "'Jk1~tKmQL!1P4e;2'"
      ]
     },
     "execution_count": 4,
     "metadata": {},
     "output_type": "execute_result"
    }
   ],
   "source": [
    "getRandomPasswordString()"
   ]
  },
  {
   "cell_type": "code",
   "execution_count": 5,
   "metadata": {},
   "outputs": [],
   "source": [
    "def generate_data_1():\n",
    "    fake = Faker()\n",
    "    liste_des_domaines = ['com','net','org','gov','fr']\n",
    "\n",
    "    list_rows = []\n",
    "    nb_row = random.randint(10000, 12000)\n",
    "\n",
    "    generated_ids = set()   # Utilisation d'un ensemble pour stocker les IDs générés\n",
    "\n",
    "    for i in range(nb_row):\n",
    "        first_name = fake.first_name()\n",
    "        last_name = fake.last_name()\n",
    "        company = fake.company().split()[0].strip(',')\n",
    "        dns_org = fake.random_choices(elements=liste_des_domaines, length=1)[0]\n",
    "        email = f\"{first_name}.{last_name}@{company}.{dns_org}\".lower()\n",
    "        unique_id = random.randint(100000, 999999)\n",
    "        age = random.randint(18, 80)\n",
    "        pwd = getRandomPasswordString()\n",
    "\n",
    "        if unique_id not in generated_ids:\n",
    "            generated_ids.add(unique_id)  # Ajoute l'ID à l'ensemble des IDs générés\n",
    "            list_rows.append(\n",
    "                (unique_id, first_name, last_name, pwd, age, fake.job(), fake.address(), fake.phone_number(), email)\n",
    "            )\n",
    "    return list_rows"
   ]
  },
  {
   "cell_type": "code",
   "execution_count": 6,
   "metadata": {},
   "outputs": [],
   "source": [
    "data = generate_data_1()"
   ]
  },
  {
   "cell_type": "code",
   "execution_count": 7,
   "metadata": {},
   "outputs": [
    {
     "data": {
      "text/html": [
       "<div>\n",
       "<style scoped>\n",
       "    .dataframe tbody tr th:only-of-type {\n",
       "        vertical-align: middle;\n",
       "    }\n",
       "\n",
       "    .dataframe tbody tr th {\n",
       "        vertical-align: top;\n",
       "    }\n",
       "\n",
       "    .dataframe thead th {\n",
       "        text-align: right;\n",
       "    }\n",
       "</style>\n",
       "<table border=\"1\" class=\"dataframe\">\n",
       "  <thead>\n",
       "    <tr style=\"text-align: right;\">\n",
       "      <th></th>\n",
       "      <th>id</th>\n",
       "      <th>prenom</th>\n",
       "      <th>nom</th>\n",
       "      <th>pwd</th>\n",
       "      <th>age</th>\n",
       "      <th>job</th>\n",
       "      <th>adress</th>\n",
       "      <th>phoneNumber</th>\n",
       "      <th>email</th>\n",
       "    </tr>\n",
       "  </thead>\n",
       "  <tbody>\n",
       "    <tr>\n",
       "      <th>0</th>\n",
       "      <td>771045</td>\n",
       "      <td>Jared</td>\n",
       "      <td>Trevino</td>\n",
       "      <td>Hu1)YYR~k3\"d~[[{</td>\n",
       "      <td>55</td>\n",
       "      <td>Dealer</td>\n",
       "      <td>46600 Yoder Vista\\nPierceborough, WI 00681</td>\n",
       "      <td>653-473-8872</td>\n",
       "      <td>jared.trevino@young.net</td>\n",
       "    </tr>\n",
       "    <tr>\n",
       "      <th>1</th>\n",
       "      <td>213213</td>\n",
       "      <td>Sydney</td>\n",
       "      <td>Johnson</td>\n",
       "      <td>Iq3`P}8/Sw/ZS=ua</td>\n",
       "      <td>23</td>\n",
       "      <td>Editor, commissioning</td>\n",
       "      <td>485 Lynch Lake Apt. 791\\nNorth Sandra, CO 85333</td>\n",
       "      <td>939-616-4491x73622</td>\n",
       "      <td>sydney.johnson@burns-stanley.com</td>\n",
       "    </tr>\n",
       "    <tr>\n",
       "      <th>2</th>\n",
       "      <td>487388</td>\n",
       "      <td>Linda</td>\n",
       "      <td>Fuller</td>\n",
       "      <td>Qb0=Ga!Qn&gt;]sVH!c</td>\n",
       "      <td>28</td>\n",
       "      <td>Merchant navy officer</td>\n",
       "      <td>405 Marc Mountains Suite 190\\nPort Cherylfurt,...</td>\n",
       "      <td>001-807-622-0270</td>\n",
       "      <td>linda.fuller@mitchell.net</td>\n",
       "    </tr>\n",
       "    <tr>\n",
       "      <th>3</th>\n",
       "      <td>872983</td>\n",
       "      <td>Charles</td>\n",
       "      <td>Stanley</td>\n",
       "      <td>Uh8=59VxR77RRe*B</td>\n",
       "      <td>26</td>\n",
       "      <td>Lobbyist</td>\n",
       "      <td>082 Perez Locks Apt. 478\\nNorth Davidchester, ...</td>\n",
       "      <td>956-998-2873</td>\n",
       "      <td>charles.stanley@lee.org</td>\n",
       "    </tr>\n",
       "    <tr>\n",
       "      <th>4</th>\n",
       "      <td>664335</td>\n",
       "      <td>Craig</td>\n",
       "      <td>Rogers</td>\n",
       "      <td>Td8:l11P-U'!^XNf</td>\n",
       "      <td>78</td>\n",
       "      <td>Journalist, broadcasting</td>\n",
       "      <td>0072 Mitchell Valleys Suite 978\\nRobertmouth, ...</td>\n",
       "      <td>4332729753</td>\n",
       "      <td>craig.rogers@gilmore.org</td>\n",
       "    </tr>\n",
       "  </tbody>\n",
       "</table>\n",
       "</div>"
      ],
      "text/plain": [
       "       id   prenom      nom               pwd  age                       job  \\\n",
       "0  771045    Jared  Trevino  Hu1)YYR~k3\"d~[[{   55                    Dealer   \n",
       "1  213213   Sydney  Johnson  Iq3`P}8/Sw/ZS=ua   23     Editor, commissioning   \n",
       "2  487388    Linda   Fuller  Qb0=Ga!Qn>]sVH!c   28     Merchant navy officer   \n",
       "3  872983  Charles  Stanley  Uh8=59VxR77RRe*B   26                  Lobbyist   \n",
       "4  664335    Craig   Rogers  Td8:l11P-U'!^XNf   78  Journalist, broadcasting   \n",
       "\n",
       "                                              adress         phoneNumber  \\\n",
       "0         46600 Yoder Vista\\nPierceborough, WI 00681        653-473-8872   \n",
       "1    485 Lynch Lake Apt. 791\\nNorth Sandra, CO 85333  939-616-4491x73622   \n",
       "2  405 Marc Mountains Suite 190\\nPort Cherylfurt,...    001-807-622-0270   \n",
       "3  082 Perez Locks Apt. 478\\nNorth Davidchester, ...        956-998-2873   \n",
       "4  0072 Mitchell Valleys Suite 978\\nRobertmouth, ...          4332729753   \n",
       "\n",
       "                              email  \n",
       "0           jared.trevino@young.net  \n",
       "1  sydney.johnson@burns-stanley.com  \n",
       "2         linda.fuller@mitchell.net  \n",
       "3           charles.stanley@lee.org  \n",
       "4          craig.rogers@gilmore.org  "
      ]
     },
     "execution_count": 7,
     "metadata": {},
     "output_type": "execute_result"
    }
   ],
   "source": [
    "client = pd.DataFrame(data, columns=['id', 'prenom', 'nom', 'pwd', 'age', 'job', 'adress', 'phoneNumber', 'email'])\n",
    "client.head()"
   ]
  },
  {
   "cell_type": "code",
   "execution_count": 8,
   "metadata": {},
   "outputs": [
    {
     "name": "stdout",
     "output_type": "stream",
     "text": [
      "<class 'pandas.core.frame.DataFrame'>\n",
      "RangeIndex: 9976 entries, 0 to 9975\n",
      "Data columns (total 9 columns):\n",
      " #   Column       Non-Null Count  Dtype \n",
      "---  ------       --------------  ----- \n",
      " 0   id           9976 non-null   int64 \n",
      " 1   prenom       9976 non-null   object\n",
      " 2   nom          9976 non-null   object\n",
      " 3   pwd          9976 non-null   object\n",
      " 4   age          9976 non-null   int64 \n",
      " 5   job          9976 non-null   object\n",
      " 6   adress       9976 non-null   object\n",
      " 7   phoneNumber  9976 non-null   object\n",
      " 8   email        9976 non-null   object\n",
      "dtypes: int64(2), object(7)\n",
      "memory usage: 701.6+ KB\n"
     ]
    }
   ],
   "source": [
    "client.info()"
   ]
  },
  {
   "cell_type": "code",
   "execution_count": 9,
   "metadata": {},
   "outputs": [],
   "source": [
    "client.to_csv('client.csv', index=False)"
   ]
  },
  {
   "cell_type": "markdown",
   "metadata": {},
   "source": [
    "# Fake game stats data"
   ]
  },
  {
   "cell_type": "code",
   "execution_count": 83,
   "metadata": {},
   "outputs": [
    {
     "name": "stderr",
     "output_type": "stream",
     "text": [
      "C:\\Users\\PC de MEDUSA\\AppData\\Local\\Temp\\ipykernel_8560\\4143064053.py:39: FutureWarning: The behavior of DataFrame concatenation with empty or all-NA entries is deprecated. In a future version, this will no longer exclude empty or all-NA columns when determining the result dtypes. To retain the old behavior, exclude the relevant entries before the concat operation.\n",
      "  jeux_stats = pd.concat([jeux_stats, article_data])\n"
     ]
    }
   ],
   "source": [
    "# Générer les IDs de 2 à 50\n",
    "all_ids = np.arange(2, 52)\n",
    "excluded_ids = [8, 11, 12, 13, 14, 15, 16, 27, 28, 29, 34, 45]\n",
    "id_values = [e for e in all_ids if e not in excluded_ids]\n",
    "\n",
    "# Générer toutes les dates de 2023\n",
    "start_date = pd.to_datetime('2022-01-01')\n",
    "end_date = pd.to_datetime('2023-12-31')\n",
    "dates = pd.date_range(start_date, end_date, freq='D')\n",
    "\n",
    "np.random.seed(10)\n",
    "\n",
    "# Créer une DataFrame vide pour stocker les données\n",
    "jeux_stats = pd.DataFrame(columns=['id_article', 'date', 'qte_ajoutee', 'qte_achetee'])\n",
    "\n",
    "# Générer des quantités aléatoires en fonction de chaque article et date\n",
    "for article_id in id_values:\n",
    "    # Générer des paramètres spécifiques pour chaque article (moyenne et écart-type)\n",
    "    moyenne_ajoutee = np.random.uniform(50, 200)  # Moyenne pour qte_ajoutee\n",
    "    ecart_type_ajoutee = np.random.uniform(20, 100)  # Écart-type pour qte_ajoutee\n",
    "    \n",
    "    moyenne_achetee = moyenne_ajoutee * np.random.uniform(0.5, 0.8)  # Moyenne pour qte_achetee\n",
    "    ecart_type_achetee = ecart_type_ajoutee * np.random.uniform(0.5, 0.8)  # Écart-type pour qte_achetee\n",
    "    \n",
    "    # Générer des quantités aléatoires pour chaque date en utilisant une distribution normale\n",
    "    qte_ajoutee = np.random.normal(moyenne_ajoutee, ecart_type_ajoutee, len(dates)).astype(int)\n",
    "    qte_ajoutee = np.abs(qte_ajoutee)  # Rendre les valeurs négatives positives\n",
    "    qte_achetee = np.random.normal(moyenne_achetee, ecart_type_achetee, len(dates)).astype(int)\n",
    "    qte_achetee = np.abs(qte_achetee)  # Rendre les valeurs négatives positives\n",
    "    qte_achetee = np.where(qte_achetee == 0, 1, qte_achetee) # Assurer que qte_achetee n'est pas nulle\n",
    "    \n",
    "    # Créer une DataFrame pour cet article et concaténer avec la DataFrame principale\n",
    "    article_data = pd.DataFrame({\n",
    "        'id_article': article_id,\n",
    "        'date': dates,\n",
    "        'qte_ajoutee': qte_ajoutee,\n",
    "        'qte_achetee': qte_achetee\n",
    "    })\n",
    "    jeux_stats = pd.concat([jeux_stats, article_data])\n",
    "\n",
    "# Réinitialiser l'index\n",
    "jeux_stats.reset_index(drop=True, inplace=True)\n",
    "\n",
    "# Convertir la colonne 'date' en format date YYYY-MM-DD\n",
    "jeux_stats['date'] = jeux_stats['date'].dt.strftime('%Y-%m-%d')"
   ]
  },
  {
   "cell_type": "code",
   "execution_count": 86,
   "metadata": {},
   "outputs": [
    {
     "name": "stdout",
     "output_type": "stream",
     "text": [
      "<class 'pandas.core.frame.DataFrame'>\n",
      "RangeIndex: 27740 entries, 0 to 27739\n",
      "Data columns (total 4 columns):\n",
      " #   Column       Non-Null Count  Dtype \n",
      "---  ------       --------------  ----- \n",
      " 0   id_article   27740 non-null  object\n",
      " 1   date         27740 non-null  object\n",
      " 2   qte_ajoutee  27740 non-null  object\n",
      " 3   qte_achetee  27740 non-null  object\n",
      "dtypes: object(4)\n",
      "memory usage: 867.0+ KB\n"
     ]
    }
   ],
   "source": [
    "jeux_stats.info()"
   ]
  },
  {
   "cell_type": "code",
   "execution_count": 85,
   "metadata": {},
   "outputs": [],
   "source": [
    "jeux_stats.to_csv('jeux_stats.csv', index=False)"
   ]
  }
 ],
 "metadata": {
  "kernelspec": {
   "display_name": "python39",
   "language": "python",
   "name": "python3"
  },
  "language_info": {
   "codemirror_mode": {
    "name": "ipython",
    "version": 3
   },
   "file_extension": ".py",
   "mimetype": "text/x-python",
   "name": "python",
   "nbconvert_exporter": "python",
   "pygments_lexer": "ipython3",
   "version": "3.11.6"
  }
 },
 "nbformat": 4,
 "nbformat_minor": 2
}

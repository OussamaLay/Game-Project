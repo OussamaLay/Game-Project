{
 "cells": [
  {
   "cell_type": "code",
   "execution_count": 51,
   "metadata": {},
   "outputs": [],
   "source": [
    "import numpy as np\n",
    "import pandas as pd\n",
    "from faker import Faker\n",
    "import random\n",
    "import matplotlib.pyplot as plt\n",
    "import secrets\n",
    "import string\n",
    "import psycopg2"
   ]
  },
  {
   "cell_type": "markdown",
   "metadata": {},
   "source": [
    "# Fake client data"
   ]
  },
  {
   "cell_type": "code",
   "execution_count": 32,
   "metadata": {},
   "outputs": [],
   "source": [
    "def getRandomPasswordString():\n",
    "    alphabet = string.ascii_letters + string.digits + string.punctuation.replace(',', '')  # Exclure la virgule\n",
    "\n",
    "    password = secrets.choice(string.ascii_uppercase) + \\\n",
    "               secrets.choice(string.ascii_lowercase) + \\\n",
    "               secrets.choice(string.digits) + \\\n",
    "               secrets.choice(string.punctuation.replace(',', '')) + \\\n",
    "               ''.join(secrets.choice(alphabet) for i in range(12))\n",
    "\n",
    "    return password\n"
   ]
  },
  {
   "cell_type": "code",
   "execution_count": 33,
   "metadata": {},
   "outputs": [
    {
     "data": {
      "text/plain": [
       "'Vn2\"$5jJW>G:[aPM'"
      ]
     },
     "execution_count": 33,
     "metadata": {},
     "output_type": "execute_result"
    }
   ],
   "source": [
    "getRandomPasswordString()"
   ]
  },
  {
   "cell_type": "code",
   "execution_count": 34,
   "metadata": {},
   "outputs": [],
   "source": [
    "def generate_data_1():\n",
    "    fake = Faker()\n",
    "    liste_des_domaines = ['com','net','org','gov','fr']\n",
    "\n",
    "    list_rows = []\n",
    "    nb_row = random.randint(10000, 12000)\n",
    "\n",
    "    generated_ids = set()   # Utilisation d'un ensemble pour stocker les IDs générés\n",
    "\n",
    "    for i in range(nb_row):\n",
    "        first_name = fake.first_name()\n",
    "        last_name = fake.last_name()\n",
    "        company = fake.company().split()[0].strip(',')\n",
    "        dns_org = fake.random_choices(elements=liste_des_domaines, length=1)[0]\n",
    "        email = f\"{first_name}.{last_name}@{company}.{dns_org}\".lower()\n",
    "        unique_id = random.randint(100000, 999999)\n",
    "        age = random.randint(18, 80)\n",
    "        pwd = getRandomPasswordString()\n",
    "\n",
    "        if unique_id not in generated_ids:\n",
    "            generated_ids.add(unique_id)  # Ajoute l'ID à l'ensemble des IDs générés\n",
    "            list_rows.append(\n",
    "                (unique_id, first_name, last_name, pwd, age, fake.job(), fake.address(), fake.phone_number(), email)\n",
    "            )\n",
    "    return list_rows"
   ]
  },
  {
   "cell_type": "code",
   "execution_count": 35,
   "metadata": {},
   "outputs": [],
   "source": [
    "data = generate_data_1()"
   ]
  },
  {
   "cell_type": "code",
   "execution_count": 57,
   "metadata": {},
   "outputs": [
    {
     "data": {
      "text/html": [
       "<div>\n",
       "<style scoped>\n",
       "    .dataframe tbody tr th:only-of-type {\n",
       "        vertical-align: middle;\n",
       "    }\n",
       "\n",
       "    .dataframe tbody tr th {\n",
       "        vertical-align: top;\n",
       "    }\n",
       "\n",
       "    .dataframe thead th {\n",
       "        text-align: right;\n",
       "    }\n",
       "</style>\n",
       "<table border=\"1\" class=\"dataframe\">\n",
       "  <thead>\n",
       "    <tr style=\"text-align: right;\">\n",
       "      <th></th>\n",
       "      <th>id</th>\n",
       "      <th>prenom</th>\n",
       "      <th>nom</th>\n",
       "      <th>pwd</th>\n",
       "      <th>age</th>\n",
       "      <th>job</th>\n",
       "      <th>adress</th>\n",
       "      <th>phoneNumber</th>\n",
       "      <th>email</th>\n",
       "    </tr>\n",
       "  </thead>\n",
       "  <tbody>\n",
       "    <tr>\n",
       "      <th>0</th>\n",
       "      <td>953125</td>\n",
       "      <td>Christopher</td>\n",
       "      <td>Cantu</td>\n",
       "      <td>Yn5*@%S_&amp;BvwnZ:o</td>\n",
       "      <td>74</td>\n",
       "      <td>Broadcast journalist</td>\n",
       "      <td>USCGC Jones\\nFPO AE 91044</td>\n",
       "      <td>001-488-606-0601x459</td>\n",
       "      <td>christopher.cantu@anderson.net</td>\n",
       "    </tr>\n",
       "    <tr>\n",
       "      <th>1</th>\n",
       "      <td>891182</td>\n",
       "      <td>Sandra</td>\n",
       "      <td>Oconnor</td>\n",
       "      <td>Sf4}XM.*;7qhX[Dx</td>\n",
       "      <td>46</td>\n",
       "      <td>Chief Technology Officer</td>\n",
       "      <td>7312 Kathy Trace\\nNorth Benjamin, UT 41664</td>\n",
       "      <td>+1-900-681-6671x82178</td>\n",
       "      <td>sandra.oconnor@griffin.org</td>\n",
       "    </tr>\n",
       "    <tr>\n",
       "      <th>2</th>\n",
       "      <td>534904</td>\n",
       "      <td>Bradley</td>\n",
       "      <td>Fisher</td>\n",
       "      <td>Ac7{E&amp;!;.AR!1F~C</td>\n",
       "      <td>27</td>\n",
       "      <td>Risk analyst</td>\n",
       "      <td>80960 Alvarado Harbor\\nEast Joshuachester, AS ...</td>\n",
       "      <td>001-919-985-1035</td>\n",
       "      <td>bradley.fisher@jimenez.fr</td>\n",
       "    </tr>\n",
       "    <tr>\n",
       "      <th>3</th>\n",
       "      <td>497007</td>\n",
       "      <td>Carla</td>\n",
       "      <td>Wright</td>\n",
       "      <td>Zy1&lt;9gyY&amp;V&lt;@&lt;O%t</td>\n",
       "      <td>67</td>\n",
       "      <td>Adult guidance worker</td>\n",
       "      <td>20946 Crystal Forge Apt. 175\\nEast Jessica, NE...</td>\n",
       "      <td>(602)528-1210x649</td>\n",
       "      <td>carla.wright@mathis-jones.org</td>\n",
       "    </tr>\n",
       "    <tr>\n",
       "      <th>4</th>\n",
       "      <td>839432</td>\n",
       "      <td>Kelsey</td>\n",
       "      <td>Gross</td>\n",
       "      <td>Aq4&amp;gX'r*);vab9A</td>\n",
       "      <td>68</td>\n",
       "      <td>Politician's assistant</td>\n",
       "      <td>51428 Parker Falls Suite 370\\nEast Rickyville,...</td>\n",
       "      <td>+1-401-348-1059x65185</td>\n",
       "      <td>kelsey.gross@schneider.com</td>\n",
       "    </tr>\n",
       "  </tbody>\n",
       "</table>\n",
       "</div>"
      ],
      "text/plain": [
       "       id       prenom      nom               pwd  age  \\\n",
       "0  953125  Christopher    Cantu  Yn5*@%S_&BvwnZ:o   74   \n",
       "1  891182       Sandra  Oconnor  Sf4}XM.*;7qhX[Dx   46   \n",
       "2  534904      Bradley   Fisher  Ac7{E&!;.AR!1F~C   27   \n",
       "3  497007        Carla   Wright  Zy1<9gyY&V<@<O%t   67   \n",
       "4  839432       Kelsey    Gross  Aq4&gX'r*);vab9A   68   \n",
       "\n",
       "                        job  \\\n",
       "0      Broadcast journalist   \n",
       "1  Chief Technology Officer   \n",
       "2              Risk analyst   \n",
       "3     Adult guidance worker   \n",
       "4    Politician's assistant   \n",
       "\n",
       "                                              adress            phoneNumber  \\\n",
       "0                          USCGC Jones\\nFPO AE 91044   001-488-606-0601x459   \n",
       "1         7312 Kathy Trace\\nNorth Benjamin, UT 41664  +1-900-681-6671x82178   \n",
       "2  80960 Alvarado Harbor\\nEast Joshuachester, AS ...       001-919-985-1035   \n",
       "3  20946 Crystal Forge Apt. 175\\nEast Jessica, NE...      (602)528-1210x649   \n",
       "4  51428 Parker Falls Suite 370\\nEast Rickyville,...  +1-401-348-1059x65185   \n",
       "\n",
       "                            email  \n",
       "0  christopher.cantu@anderson.net  \n",
       "1      sandra.oconnor@griffin.org  \n",
       "2       bradley.fisher@jimenez.fr  \n",
       "3   carla.wright@mathis-jones.org  \n",
       "4      kelsey.gross@schneider.com  "
      ]
     },
     "execution_count": 57,
     "metadata": {},
     "output_type": "execute_result"
    }
   ],
   "source": [
    "client = pd.DataFrame(data, columns=['id', 'prenom', 'nom', 'pwd', 'age', 'job', 'adress', 'phoneNumber', 'email'])\n",
    "client.head()"
   ]
  },
  {
   "cell_type": "code",
   "execution_count": 37,
   "metadata": {},
   "outputs": [
    {
     "name": "stdout",
     "output_type": "stream",
     "text": [
      "<class 'pandas.core.frame.DataFrame'>\n",
      "RangeIndex: 11436 entries, 0 to 11435\n",
      "Data columns (total 9 columns):\n",
      " #   Column       Non-Null Count  Dtype \n",
      "---  ------       --------------  ----- \n",
      " 0   id           11436 non-null  int64 \n",
      " 1   prenom       11436 non-null  object\n",
      " 2   nom          11436 non-null  object\n",
      " 3   pwd          11436 non-null  object\n",
      " 4   age          11436 non-null  int64 \n",
      " 5   job          11436 non-null  object\n",
      " 6   adress       11436 non-null  object\n",
      " 7   phoneNumber  11436 non-null  object\n",
      " 8   email        11436 non-null  object\n",
      "dtypes: int64(2), object(7)\n",
      "memory usage: 804.2+ KB\n"
     ]
    }
   ],
   "source": [
    "client.info()"
   ]
  },
  {
   "cell_type": "code",
   "execution_count": 38,
   "metadata": {},
   "outputs": [],
   "source": [
    "client.to_csv('client.csv', index=False)"
   ]
  },
  {
   "cell_type": "markdown",
   "metadata": {},
   "source": [
    "# Fake game stats data"
   ]
  },
  {
   "cell_type": "code",
   "execution_count": 66,
   "metadata": {},
   "outputs": [
    {
     "name": "stderr",
     "output_type": "stream",
     "text": [
      "C:\\Users\\PC de MEDUSA\\AppData\\Local\\Temp\\ipykernel_28240\\2890172480.py:14: UserWarning: pandas only supports SQLAlchemy connectable (engine/connection) or database string URI or sqlite3 DBAPI2 connection. Other DBAPI2 objects are not tested. Please consider using SQLAlchemy.\n",
      "  dataframe = pd.read_sql(query, conn)\n"
     ]
    }
   ],
   "source": [
    "# Connexion à la base de données PostgreSQL\n",
    "conn = psycopg2.connect(\n",
    "    dbname=\"jeux-videos\",\n",
    "    user=\"postgres\",\n",
    "    password=\"S0314\",\n",
    "    host=\"localhost\",\n",
    "    port=\"5432\"\n",
    ")\n",
    "\n",
    "# Définition de la requête SQL pour récupérer toutes les colonnes de la table 'article'\n",
    "query = \"SELECT id FROM article\"\n",
    "\n",
    "# Lecture des données de la table 'article' dans une DataFrame Pandas\n",
    "dataframe = pd.read_sql(query, conn)\n",
    "\n",
    "# Fermeture de la connexion\n",
    "conn.close()\n"
   ]
  },
  {
   "cell_type": "code",
   "execution_count": 79,
   "metadata": {},
   "outputs": [
    {
     "name": "stdout",
     "output_type": "stream",
     "text": [
      "<class 'pandas.core.frame.DataFrame'>\n",
      "RangeIndex: 38 entries, 0 to 37\n",
      "Data columns (total 1 columns):\n",
      " #   Column  Non-Null Count  Dtype\n",
      "---  ------  --------------  -----\n",
      " 0   id      38 non-null     int64\n",
      "dtypes: int64(1)\n",
      "memory usage: 436.0 bytes\n"
     ]
    }
   ],
   "source": [
    "dataframe.info()"
   ]
  },
  {
   "cell_type": "code",
   "execution_count": 76,
   "metadata": {},
   "outputs": [],
   "source": [
    "# Affichage des premières lignes de la DataFrame\n",
    "l = list(dataframe['id']) \n",
    "ll = list(np.arange(2, 52))\n",
    "\n",
    "# Convertir les listes en ensembles\n",
    "elements_absents = [element for element in ll if element not in l]"
   ]
  },
  {
   "cell_type": "code",
   "execution_count": 85,
   "metadata": {},
   "outputs": [],
   "source": [
    "# Générer les IDs de 2 à 50\n",
    "all_ids = np.arange(2, 52)\n",
    "excluded_ids = [8, 11, 12, 13, 14, 15, 16, 27, 28, 29, 34, 45]\n",
    "id_values = [e for e in all_ids if e not in excluded_ids]\n",
    "\n",
    "np.random.seed(42)\n",
    "qte_ajoutee_values = np.random.randint(2000, 8001, size=38)  # Générer des valeurs aléatoires entre 2000 et 9000\n",
    "qte_achetee_values = np.random.randint(1000, qte_ajoutee_values, size=38)  # Générer des valeurs aléatoires supéreiru à 1000 et inférieures à qte_ajoutee\n",
    "\n",
    "# Créer la DataFrame avec les colonnes spécifiées\n",
    "table = {\n",
    "    'id': id_values,\n",
    "    'qte_ajoutee': qte_ajoutee_values,\n",
    "    'qte_achetee': qte_achetee_values\n",
    "}\n",
    "jeux_stats = pd.DataFrame(table)\n"
   ]
  },
  {
   "cell_type": "code",
   "execution_count": 87,
   "metadata": {},
   "outputs": [
    {
     "name": "stdout",
     "output_type": "stream",
     "text": [
      "<class 'pandas.core.frame.DataFrame'>\n",
      "RangeIndex: 38 entries, 0 to 37\n",
      "Data columns (total 3 columns):\n",
      " #   Column       Non-Null Count  Dtype\n",
      "---  ------       --------------  -----\n",
      " 0   id           38 non-null     int32\n",
      " 1   qte_ajoutee  38 non-null     int32\n",
      " 2   qte_achetee  38 non-null     int32\n",
      "dtypes: int32(3)\n",
      "memory usage: 588.0 bytes\n"
     ]
    }
   ],
   "source": [
    "jeux_stats.info()"
   ]
  },
  {
   "cell_type": "code",
   "execution_count": 88,
   "metadata": {},
   "outputs": [],
   "source": [
    "jeux_stats.to_csv('jeux_stats.csv', index=False)"
   ]
  }
 ],
 "metadata": {
  "kernelspec": {
   "display_name": "python39",
   "language": "python",
   "name": "python3"
  },
  "language_info": {
   "codemirror_mode": {
    "name": "ipython",
    "version": 3
   },
   "file_extension": ".py",
   "mimetype": "text/x-python",
   "name": "python",
   "nbconvert_exporter": "python",
   "pygments_lexer": "ipython3",
   "version": "3.11.6"
  }
 },
 "nbformat": 4,
 "nbformat_minor": 2
}
